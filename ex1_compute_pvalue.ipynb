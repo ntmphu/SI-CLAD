{
 "cells": [
  {
   "cell_type": "code",
   "execution_count": 1,
   "id": "b19cefd2",
   "metadata": {},
   "outputs": [
    {
     "name": "stdout",
     "output_type": "stream",
     "text": [
      "[0, 2, 4, 7, 10, 12, 15, 19, 22, 28, 29, 32, 34, 38, 39, 41, 43, 48]\n",
      "Set of Outliers:  [0, 2, 4, 7, 10, 12, 15, 19, 22, 28, 29, 32, 34, 38, 39, 41, 43, 48]\n",
      "Selected outlier for testing:  28\n",
      "Applying SI-CLAD to calculate p-value of outlier 28: 0.5473537745976294\n"
     ]
    }
   ],
   "source": [
    "from si_clad import SI_CLAD, generate, DBSCAN_AD\n",
    "import numpy as np\n",
    "\n",
    "n = 50 \n",
    "d = 10 \n",
    "X, Sigma, _ = generate(n, d, 0, None) #no true outliers\n",
    "\n",
    "minpts =  10\n",
    "eps = 3\n",
    "O, _ = DBSCAN_AD(eps, minpts).fit(X)\n",
    "print(O)\n",
    "j = np.random.choice(O)\n",
    "print(\"Set of Outliers: \", O)\n",
    "print(\"Selected outlier for testing: \", j)\n",
    "p_value = SI_CLAD(X, Sigma, minpts, eps, O, j) #randomly choose an outlier j for testing\n",
    "print(f\"Applying SI-CLAD to calculate p-value of outlier {j}: { p_value}\")"
   ]
  }
 ],
 "metadata": {
  "kernelspec": {
   "display_name": "Python 3",
   "language": "python",
   "name": "python3"
  },
  "language_info": {
   "codemirror_mode": {
    "name": "ipython",
    "version": 3
   },
   "file_extension": ".py",
   "mimetype": "text/x-python",
   "name": "python",
   "nbconvert_exporter": "python",
   "pygments_lexer": "ipython3",
   "version": "3.12.10"
  }
 },
 "nbformat": 4,
 "nbformat_minor": 5
}
